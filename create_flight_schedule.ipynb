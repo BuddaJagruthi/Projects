{
 "cells": [
  {
   "cell_type": "code",
   "execution_count": 1,
   "metadata": {
    "collapsed": false
   },
   "outputs": [],
   "source": [
    "#Military time calculation from minutes since midnight\n",
    "def getMilTime(num):\n",
    "    hours = str(num//60)\n",
    "    mins = str(num%60)\n",
    "    if len(hours) < 2:\n",
    "        hours = '0' + hours\n",
    "    else:\n",
    "        hours = hours\n",
    "    if len(mins) < 2:\n",
    "        mins = '0' + mins\n",
    "    else:\n",
    "        mins = mins\n",
    "    milTime = hours+mins   \n",
    "    return(milTime)"
   ]
  },
  {
   "cell_type": "code",
   "execution_count": 2,
   "metadata": {
    "collapsed": false
   },
   "outputs": [
    {
     "name": "stdout",
     "output_type": "stream",
     "text": [
      "[['T1', 'HOU1', 'DAL1', 360, 455], ['T2', 'HOU2', 'DAL2', 360, 455], ['T3', 'HOU3', 'AUS1', 360, 430], ['T4', 'AUS1', 'HOU3', 360, 440], ['T5', 'DAL1', 'HOU1', 360, 460], ['T6', 'DAL2', 'HOU2', 360, 460]]\n",
      "[['T3', 'HOU3', 'AUS1', 360, 430], ['T4', 'AUS1', 'HOU3', 360, 440], ['T1', 'HOU1', 'DAL1', 360, 455], ['T2', 'HOU2', 'DAL2', 360, 455], ['T5', 'DAL1', 'HOU1', 360, 460], ['T6', 'DAL2', 'HOU2', 360, 460]]\n",
      "[['T3', 'AUS1', 'HOU3', 430, 510], ['T4', 'HOU3', 'AUS1', 440, 510], ['T1', 'DAL1', 'HOU1', 455, 555], ['T2', 'DAL2', 'HOU2', 455, 555], ['T5', 'HOU1', 'DAL1', 460, 555], ['T6', 'HOU2', 'DAL2', 460, 555]]\n",
      "[['T3', 'HOU3', 'AUS1', 510, 580], ['T4', 'AUS1', 'HOU3', 510, 590], ['T1', 'HOU1', 'DAL1', 555, 650], ['T2', 'HOU2', 'DAL2', 555, 650], ['T5', 'DAL1', 'HOU1', 555, 655], ['T6', 'DAL2', 'HOU2', 555, 655]]\n",
      "[['T3', 'AUS1', 'HOU3', 580, 660], ['T4', 'HOU3', 'AUS1', 590, 660], ['T1', 'DAL1', 'HOU1', 650, 750], ['T2', 'DAL2', 'HOU2', 650, 750], ['T5', 'HOU1', 'DAL1', 655, 750], ['T6', 'HOU2', 'DAL2', 655, 750]]\n",
      "[['T3', 'HOU3', 'AUS1', 660, 730], ['T4', 'AUS1', 'HOU3', 660, 740], ['T1', 'HOU1', 'DAL1', 750, 845], ['T2', 'HOU2', 'DAL2', 750, 845], ['T5', 'DAL1', 'HOU1', 750, 850], ['T6', 'DAL2', 'HOU2', 750, 850]]\n",
      "[['T3', 'AUS1', 'HOU3', 730, 810], ['T4', 'HOU3', 'AUS1', 740, 810], ['T1', 'DAL1', 'HOU1', 845, 945], ['T2', 'DAL2', 'HOU2', 845, 945], ['T5', 'HOU1', 'DAL1', 850, 945], ['T6', 'HOU2', 'DAL2', 850, 945]]\n",
      "[['T3', 'HOU3', 'AUS1', 810, 880], ['T4', 'AUS1', 'HOU3', 810, 890], ['T1', 'HOU1', 'DAL1', 945, 1040], ['T2', 'HOU2', 'DAL2', 945, 1040], ['T5', 'DAL1', 'HOU1', 945, 1045], ['T6', 'DAL2', 'HOU2', 945, 1045]]\n",
      "[['T3', 'AUS1', 'HOU3', 880, 960], ['T4', 'HOU3', 'AUS1', 890, 960], ['T1', 'DAL1', 'HOU1', 1040, 1140], ['T2', 'DAL2', 'HOU2', 1040, 1140], ['T5', 'HOU1', 'DAL1', 1045, 1140], ['T6', 'HOU2', 'DAL2', 1045, 1140]]\n",
      "[['T3', 'HOU3', 'AUS1', 960, 1030], ['T4', 'AUS1', 'HOU3', 960, 1040], ['T1', 'HOU1', 'DAL1', 1140, 1235], ['T2', 'HOU2', 'DAL2', 1140, 1235], ['T5', 'DAL1', 'HOU1', 1140, 1240], ['T6', 'DAL2', 'HOU2', 1140, 1240]]\n",
      "[['T3', 'HOU3', 'AUS1', '0600', '0710'], ['T4', 'AUS1', 'HOU3', '0600', '0720'], ['T1', 'HOU1', 'DAL1', '0600', '0735'], ['T2', 'HOU2', 'DAL2', '0600', '0735'], ['T5', 'DAL1', 'HOU1', '0600', '0740'], ['T6', 'DAL2', 'HOU2', '0600', '0740'], ['T3', 'AUS1', 'HOU3', '0710', '0830'], ['T4', 'HOU3', 'AUS1', '0720', '0830'], ['T1', 'DAL1', 'HOU1', '0735', '0915'], ['T2', 'DAL2', 'HOU2', '0735', '0915'], ['T5', 'HOU1', 'DAL1', '0740', '0915'], ['T6', 'HOU2', 'DAL2', '0740', '0915'], ['T3', 'HOU3', 'AUS1', '0830', '0940'], ['T4', 'AUS1', 'HOU3', '0830', '0950'], ['T1', 'HOU1', 'DAL1', '0915', '1050'], ['T2', 'HOU2', 'DAL2', '0915', '1050'], ['T5', 'DAL1', 'HOU1', '0915', '1055'], ['T6', 'DAL2', 'HOU2', '0915', '1055'], ['T3', 'AUS1', 'HOU3', '0940', '1100'], ['T4', 'HOU3', 'AUS1', '0950', '1100'], ['T1', 'DAL1', 'HOU1', '1050', '1230'], ['T2', 'DAL2', 'HOU2', '1050', '1230'], ['T5', 'HOU1', 'DAL1', '1055', '1230'], ['T6', 'HOU2', 'DAL2', '1055', '1230'], ['T3', 'HOU3', 'AUS1', '1100', '1210'], ['T4', 'AUS1', 'HOU3', '1100', '1220'], ['T1', 'HOU1', 'DAL1', '1230', '1405'], ['T2', 'HOU2', 'DAL2', '1230', '1405'], ['T5', 'DAL1', 'HOU1', '1230', '1410'], ['T6', 'DAL2', 'HOU2', '1230', '1410'], ['T3', 'AUS1', 'HOU3', '1210', '1330'], ['T4', 'HOU3', 'AUS1', '1220', '1330'], ['T1', 'DAL1', 'HOU1', '1405', '1545'], ['T2', 'DAL2', 'HOU2', '1405', '1545'], ['T5', 'HOU1', 'DAL1', '1410', '1545'], ['T6', 'HOU2', 'DAL2', '1410', '1545'], ['T3', 'HOU3', 'AUS1', '1330', '1440'], ['T4', 'AUS1', 'HOU3', '1330', '1450'], ['T1', 'HOU1', 'DAL1', '1545', '1720'], ['T2', 'HOU2', 'DAL2', '1545', '1720'], ['T5', 'DAL1', 'HOU1', '1545', '1725'], ['T6', 'DAL2', 'HOU2', '1545', '1725'], ['T3', 'AUS1', 'HOU3', '1440', '1600'], ['T4', 'HOU3', 'AUS1', '1450', '1600'], ['T1', 'DAL1', 'HOU1', '1720', '1900'], ['T2', 'DAL2', 'HOU2', '1720', '1900'], ['T5', 'HOU1', 'DAL1', '1725', '1900'], ['T6', 'HOU2', 'DAL2', '1725', '1900'], ['T3', 'HOU3', 'AUS1', '1600', '1710'], ['T4', 'AUS1', 'HOU3', '1600', '1720'], ['T1', 'HOU1', 'DAL1', '1900', '2035'], ['T2', 'HOU2', 'DAL2', '1900', '2035'], ['T5', 'DAL1', 'HOU1', '1900', '2040'], ['T6', 'DAL2', 'HOU2', '1900', '2040']]\n"
     ]
    }
   ],
   "source": [
    "#initial time schedule for flights including minimum ground time\n",
    "from operator import itemgetter\n",
    "L=[['T1','HOU1','DAL1',360,425],['T2','HOU2','DAL2',360,425],\n",
    "   ['T3','HOU3','AUS1',360,405],['T4','AUS1','HOU3',360,405],\n",
    "   ['T5','DAL1','HOU1',360,425],['T6','DAL2','HOU2',360,425]]\n",
    "M=L\n",
    "gnd_time = {'AUS':25,'DAL':30,'HOU':35}\n",
    "fly_time = {'AUSDAL':50,'AUSHOU':45,'DALHOU':65}\n",
    "# Added the minimum ground times\n",
    "for i in range(len(L)):\n",
    "        if L[i][2]=='DAL1':\n",
    "            M[i][4]=L[i][4]+gnd_time['DAL']\n",
    "        elif L[i][2]=='DAL2':\n",
    "            M[i][4]=L[i][4]+gnd_time['DAL']        \n",
    "        elif L[i][2]=='HOU1':\n",
    "            M[i][4]=L[i][4]+gnd_time['HOU']\n",
    "        elif L[i][2]=='HOU2':\n",
    "            M[i][4]=L[i][4]+gnd_time['HOU']\n",
    "        elif L[i][2]=='HOU3':\n",
    "            M[i][4]=L[i][4]+gnd_time['HOU']\n",
    "        elif L[i][2]=='AUS1':\n",
    "            M[i][4]=L[i][4]+gnd_time['AUS']\n",
    "print(M) \n",
    "\n",
    "# Sorted the dataframe after adding the ground times\n",
    "O = sorted(M, key=itemgetter(4))\n",
    "print(O)\n",
    "final_schedule=[]\n",
    "final_schedule=O\n",
    "\n",
    "# To optimize the usage of gates,flights and runway,fly the flight which has arrived first, \n",
    "#to an airport which has the next best flight arrival time.\n",
    "while True:\n",
    "    import copy\n",
    "    temp = copy.deepcopy(O)\n",
    "    #for i in range(0,5,2):\n",
    "    temp[0][1]=O[0][2]\n",
    "    a = temp[0][2]\n",
    "    temp[0][2]=O[1][2]\n",
    "\n",
    "    temp[1][2]=a\n",
    "    temp[1][1]=O[1][2]\n",
    "\n",
    "    temp[2][1]=O[2][2]\n",
    "    a = temp[2][2]\n",
    "    temp[2][2]=O[4][2]\n",
    "\n",
    "    temp[4][2]=a\n",
    "    temp[4][1]=O[4][2]\n",
    "\n",
    "    temp[3][1]=O[3][2]\n",
    "    a = temp[3][2]\n",
    "    temp[3][2]=O[5][2]\n",
    "\n",
    "    temp[5][2]=a\n",
    "    temp[5][1]=O[5][2]\n",
    "\n",
    "\n",
    "    L=temp\n",
    "    for i in range(len(temp)):\n",
    "        L[i][3]=temp[i][4]\n",
    "    M=L\n",
    "\n",
    "    for i in range(len(temp)):\n",
    "            if L[i][2][0:3]=='DAL':\n",
    "                if L[i][1][0:3]=='HOU':\n",
    "                    M[i][4]=L[i][4]+gnd_time['DAL']+fly_time['DALHOU']\n",
    "                else:\n",
    "                    M[i][4]=L[i][4]+gnd_time['DAL']+fly_time['AUSDAL']\n",
    "            elif L[i][2][0:3]=='HOU':\n",
    "                if L[i][1][0:3]=='DAL':\n",
    "                    M[i][4]=L[i][4]+gnd_time['HOU']+fly_time['DALHOU']\n",
    "                else:\n",
    "                    M[i][4]=L[i][4]+gnd_time['HOU']+fly_time['AUSHOU']\n",
    "            elif L[i][2][0:3]=='AUS':\n",
    "                if L[i][1][0:3]=='DAL':\n",
    "                    M[i][4]=L[i][4]+gnd_time['AUS']+fly_time['AUSDAL']\n",
    "                else:\n",
    "                    M[i][4]=L[i][4]+gnd_time['AUS']+fly_time['AUSHOU']\n",
    "\n",
    "\n",
    "    O = sorted(M, key=itemgetter(4))\n",
    "# stop the iteration after 10:00PM\n",
    "    if(O[5][4]>1320):\n",
    "        break\n",
    "    else:\n",
    "        print(O)\n",
    "        final_schedule = final_schedule + O\n",
    "final_schedule\n",
    "for flights in final_schedule:\n",
    "    flights[3] = getMilTime(flights[3])\n",
    "    flights[4] = getMilTime(flights[4])\n",
    "print(final_schedule)\n",
    "len(final_schedule)\n",
    "\n",
    "#Writing into csv file\n",
    "csv_header = 'tail_number,start_loc,end_loc,departure_time,arrival_time'\n",
    "file_name = 'flight_schedule.csv'\n",
    "def print_flight_schedule(fn, csv_hdr, final_schedule):\n",
    "    with open(fn,'wt') as f:\n",
    "        print(csv_hdr, file=f)\n",
    "        for s in final_schedule:\n",
    "            print(','.join(s), file=f)\n",
    "            \n",
    "print_flight_schedule(file_name, csv_header, final_schedule)"
   ]
  },
  {
   "cell_type": "code",
   "execution_count": null,
   "metadata": {
    "collapsed": false
   },
   "outputs": [],
   "source": [
    "\n",
    "\n",
    "\n",
    "   \n",
    "\n",
    "\n"
   ]
  },
  {
   "cell_type": "code",
   "execution_count": null,
   "metadata": {
    "collapsed": false
   },
   "outputs": [],
   "source": [
    "\n",
    "\n"
   ]
  },
  {
   "cell_type": "code",
   "execution_count": null,
   "metadata": {
    "collapsed": false
   },
   "outputs": [],
   "source": []
  },
  {
   "cell_type": "code",
   "execution_count": null,
   "metadata": {
    "collapsed": false
   },
   "outputs": [],
   "source": [
    "\n",
    "\n",
    "    \n",
    "  "
   ]
  },
  {
   "cell_type": "code",
   "execution_count": null,
   "metadata": {
    "collapsed": false
   },
   "outputs": [],
   "source": []
  },
  {
   "cell_type": "code",
   "execution_count": null,
   "metadata": {
    "collapsed": false
   },
   "outputs": [],
   "source": []
  },
  {
   "cell_type": "code",
   "execution_count": null,
   "metadata": {
    "collapsed": true
   },
   "outputs": [],
   "source": []
  }
 ],
 "metadata": {
  "kernelspec": {
   "display_name": "Python 3",
   "language": "python",
   "name": "python3"
  },
  "language_info": {
   "codemirror_mode": {
    "name": "ipython",
    "version": 3
   },
   "file_extension": ".py",
   "mimetype": "text/x-python",
   "name": "python",
   "nbconvert_exporter": "python",
   "pygments_lexer": "ipython3",
   "version": "3.6.0"
  }
 },
 "nbformat": 4,
 "nbformat_minor": 2
}
